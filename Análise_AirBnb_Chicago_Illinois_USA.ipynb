{
  "nbformat": 4,
  "nbformat_minor": 0,
  "metadata": {
    "colab": {
      "name": "Análise AirBnb Chicago-Illinois-USA.ipynb",
      "provenance": [],
      "collapsed_sections": [],
      "include_colab_link": true
    },
    "kernelspec": {
      "name": "python3",
      "display_name": "Python 3"
    }
  },
  "cells": [
    {
      "cell_type": "markdown",
      "metadata": {
        "id": "view-in-github",
        "colab_type": "text"
      },
      "source": [
        "<a href=\"https://colab.research.google.com/github/jeandrelucasdalexandre/welcome/blob/main/An%C3%A1lise_AirBnb_Chicago_Illinois_USA.ipynb\" target=\"_parent\"><img src=\"https://colab.research.google.com/assets/colab-badge.svg\" alt=\"Open In Colab\"/></a>"
      ]
    },
    {
      "cell_type": "markdown",
      "metadata": {
        "id": "kLI0gJtzDGuQ"
      },
      "source": [
        "<img alt=\"Colaboratory logo\" width=\"15%\" src=\"https://raw.githubusercontent.com/carlosfab/escola-data-science/master/img/novo_logo_bg_claro.png\">\n",
        "\n",
        "#### **Data Science na Prática 3.0**\n",
        "*by [sigmoidal.ai](https://sigmoidal.ai)*\n",
        "\n",
        "---\n",
        "\n",
        "# Análise dos Dados do Airbnb - *Chicado, Illinois, USA*\n",
        "\n",
        "O [Airbnb](https://www.airbnb.com.br/) já é considerado como sendo a **maior empresa hoteleira da atualidade**, mesmo sem **possuir nenhum hotel**!\n",
        "\n",
        "Conectando pessoas que querem viajar (e se hospedar) com anfitriões que querem alugar seus imóveis de maneira prática, o Airbnb fornece uma plataforma inovadora para tornar essa hospedagem alternativa.\n",
        "\n",
        "No final de 2018, a Startup fundada 10 anos atrás, já havia **hospedado mais de 300 milhões** de pessoas ao redor de todo o mundo, desafiando as redes hoteleiras tradicionais.\n",
        "\n",
        "Uma das iniciativas do Airbnb é disponibilizar dados do site, para algumas das principais cidades do mundo. Por meio do portal [Inside Airbnb](http://insideairbnb.com/get-the-data.html), é possível baixar uma grande quantidade de dados para desenvolver projetos e soluções de *Data Science*.\n",
        "\n",
        "<center><img alt=\"Analisando Airbnb\" width=\"10%\" src=\"https://www.area360.com.au/wp-content/uploads/2017/09/airbnb-logo.jpg\"></center>\n",
        "\n",
        "**Neste *notebook*, iremos analisar os dados referentes à cidade de Chicado, Illinois, Estados Unidos, e ver quais insights podem ser extraídos a partir de dados brutos.**"
      ]
    },
    {
      "cell_type": "markdown",
      "metadata": {
        "id": "0zxQHhIUDF_2"
      },
      "source": [
        "## Obtenção dos Dados\n"
      ]
    },
    {
      "cell_type": "code",
      "metadata": {
        "id": "Vhp2wMPgJ6zX"
      },
      "source": [
        "# importar os pacotes necessarios\n",
        "import pandas as pd\n",
        "import matplotlib.pyplot as plt\n",
        "import numpy as np\n",
        "import seaborn as sns\n",
        "\n",
        "%matplotlib inline"
      ],
      "execution_count": 341,
      "outputs": []
    },
    {
      "cell_type": "code",
      "metadata": {
        "id": "tUmoAT8DLQ5T"
      },
      "source": [
        "# importar o arquivo listings.csv para um DataFrame\n",
        "df = pd.read_csv(\"http://data.insideairbnb.com/united-states/il/chicago/2021-07-10/visualisations/listings.csv\")"
      ],
      "execution_count": 342,
      "outputs": []
    },
    {
      "cell_type": "code",
      "metadata": {
        "colab": {
          "base_uri": "https://localhost:8080/"
        },
        "id": "TM-e8zuCFMgw",
        "outputId": "04fa5690-1fbb-481d-bdb6-cb0b22041bfc"
      },
      "source": [
        "df.columns"
      ],
      "execution_count": 343,
      "outputs": [
        {
          "output_type": "execute_result",
          "data": {
            "text/plain": [
              "Index(['id', 'name', 'host_id', 'host_name', 'neighbourhood_group',\n",
              "       'neighbourhood', 'latitude', 'longitude', 'room_type', 'price',\n",
              "       'minimum_nights', 'number_of_reviews', 'last_review',\n",
              "       'reviews_per_month', 'calculated_host_listings_count',\n",
              "       'availability_365'],\n",
              "      dtype='object')"
            ]
          },
          "metadata": {
            "tags": []
          },
          "execution_count": 343
        }
      ]
    },
    {
      "cell_type": "code",
      "metadata": {
        "colab": {
          "base_uri": "https://localhost:8080/"
        },
        "id": "LG5NVyPqLjLr",
        "outputId": "59fbdc4d-ddf4-4233-8b2f-7ed8f35c38df"
      },
      "source": [
        "df.drop(columns='neighbourhood_group', inplace=True)\n",
        "df.columns"
      ],
      "execution_count": 344,
      "outputs": [
        {
          "output_type": "execute_result",
          "data": {
            "text/plain": [
              "Index(['id', 'name', 'host_id', 'host_name', 'neighbourhood', 'latitude',\n",
              "       'longitude', 'room_type', 'price', 'minimum_nights',\n",
              "       'number_of_reviews', 'last_review', 'reviews_per_month',\n",
              "       'calculated_host_listings_count', 'availability_365'],\n",
              "      dtype='object')"
            ]
          },
          "metadata": {
            "tags": []
          },
          "execution_count": 344
        }
      ]
    },
    {
      "cell_type": "markdown",
      "metadata": {
        "id": "RYgvuebKNg8-"
      },
      "source": [
        "**Dicionário das variáveis**\n",
        "\n",
        "*A variável nighbourhood_group foi removida pois todas as colunas estavam vazias.*\n",
        "\n",
        "*Apenas 1 registro não possui a variável host_name, este registro foi mantido pois o nome do host não causa impacto na análise atual*\n",
        "\n",
        "As variáveis abaixo estão presentes no dataset, algumas análises preliminares podem ser feitas, mas necessitam de conhecimento aprofundado da plataforma para serem confirmadas.\n",
        "\n",
        "* id: identificação única do anúncio\n",
        "* name: nome do anúncio \n",
        "* host_id: identificação única do anunciante\n",
        "* host_name: primeiro nome do anunciante ou nome da empresa\n",
        "* neighbourhood: bairro de localização do anúncio\n",
        "* latitude e longitude: juntas representam a localização geográfica do anúncio. as variáveis 'latitude' e 'longitude' precisam estar juntas para integrar a informação. Separadas elas não significam muita coisa.\n",
        "* room_type: representa o tipo do ambiente anunciado (quarto, sala, casa inteira, apartamento, entre outros...)\n",
        "* price: preço do anúncio\n",
        "* minimum_nights: quantidade mínima de noites que precisam ser alugadas\n",
        "* number_of_reviews: quantidade de avaliações\n",
        "* last_review: data da última avaliação\n",
        "* reviews_per_month: quantidade de avaliações por mês\n",
        "* calculates_host_listings_count: quantidade de anúncios que pertecem ao mesmo anunciante\n",
        "* availability_365: identifica se o anúncio está disponível todos os dias do ano ou não.\n",
        "\n",
        "Preliminarmente convém observar que a mesma quantidade de dados ausentes para last_review e reviews_per_month (1084 registros ausentes para ambas) somado ao fato de que esses registros possuem a variável number_of_reviews igual a 0 (zero) pode indicar uma quantidade anúncios novos (ou não tão novos, porém recentes o suficiente para nunca terem sido avaliados), na casa de 17,02%.\n",
        "\n",
        "Antes de iniciar qualquer análise, vamos verificar a cara do nosso *dataset*, analisando as 5 primeiras entradas."
      ]
    },
    {
      "cell_type": "code",
      "metadata": {
        "colab": {
          "base_uri": "https://localhost:8080/",
          "height": 340
        },
        "id": "AcwlWwyaYTpL",
        "outputId": "6cf52fde-ff91-41ad-bb81-9be85ed6db36"
      },
      "source": [
        "df.head(5)"
      ],
      "execution_count": 345,
      "outputs": [
        {
          "output_type": "execute_result",
          "data": {
            "text/html": [
              "<div>\n",
              "<style scoped>\n",
              "    .dataframe tbody tr th:only-of-type {\n",
              "        vertical-align: middle;\n",
              "    }\n",
              "\n",
              "    .dataframe tbody tr th {\n",
              "        vertical-align: top;\n",
              "    }\n",
              "\n",
              "    .dataframe thead th {\n",
              "        text-align: right;\n",
              "    }\n",
              "</style>\n",
              "<table border=\"1\" class=\"dataframe\">\n",
              "  <thead>\n",
              "    <tr style=\"text-align: right;\">\n",
              "      <th></th>\n",
              "      <th>id</th>\n",
              "      <th>name</th>\n",
              "      <th>host_id</th>\n",
              "      <th>host_name</th>\n",
              "      <th>neighbourhood</th>\n",
              "      <th>latitude</th>\n",
              "      <th>longitude</th>\n",
              "      <th>room_type</th>\n",
              "      <th>price</th>\n",
              "      <th>minimum_nights</th>\n",
              "      <th>number_of_reviews</th>\n",
              "      <th>last_review</th>\n",
              "      <th>reviews_per_month</th>\n",
              "      <th>calculated_host_listings_count</th>\n",
              "      <th>availability_365</th>\n",
              "    </tr>\n",
              "  </thead>\n",
              "  <tbody>\n",
              "    <tr>\n",
              "      <th>0</th>\n",
              "      <td>2384</td>\n",
              "      <td>Hyde Park - Walk to University of Chicago</td>\n",
              "      <td>2613</td>\n",
              "      <td>Rebecca</td>\n",
              "      <td>Hyde Park</td>\n",
              "      <td>41.78790</td>\n",
              "      <td>-87.58780</td>\n",
              "      <td>Private room</td>\n",
              "      <td>85</td>\n",
              "      <td>1</td>\n",
              "      <td>185</td>\n",
              "      <td>2021-06-21</td>\n",
              "      <td>2.45</td>\n",
              "      <td>1</td>\n",
              "      <td>338</td>\n",
              "    </tr>\n",
              "    <tr>\n",
              "      <th>1</th>\n",
              "      <td>7126</td>\n",
              "      <td>Tiny Studio Apartment 94 Walk Score</td>\n",
              "      <td>17928</td>\n",
              "      <td>Sarah</td>\n",
              "      <td>West Town</td>\n",
              "      <td>41.90166</td>\n",
              "      <td>-87.68021</td>\n",
              "      <td>Entire home/apt</td>\n",
              "      <td>65</td>\n",
              "      <td>2</td>\n",
              "      <td>401</td>\n",
              "      <td>2021-05-22</td>\n",
              "      <td>3.32</td>\n",
              "      <td>1</td>\n",
              "      <td>59</td>\n",
              "    </tr>\n",
              "    <tr>\n",
              "      <th>2</th>\n",
              "      <td>10945</td>\n",
              "      <td>The Biddle House (#1)</td>\n",
              "      <td>33004</td>\n",
              "      <td>At Home Inn</td>\n",
              "      <td>Lincoln Park</td>\n",
              "      <td>41.91196</td>\n",
              "      <td>-87.63981</td>\n",
              "      <td>Entire home/apt</td>\n",
              "      <td>143</td>\n",
              "      <td>4</td>\n",
              "      <td>28</td>\n",
              "      <td>2021-06-21</td>\n",
              "      <td>0.32</td>\n",
              "      <td>10</td>\n",
              "      <td>102</td>\n",
              "    </tr>\n",
              "    <tr>\n",
              "      <th>3</th>\n",
              "      <td>12068</td>\n",
              "      <td>Chicago GOLD COAST 1 Bedroom Condo</td>\n",
              "      <td>40731</td>\n",
              "      <td>Dominic</td>\n",
              "      <td>Near North Side</td>\n",
              "      <td>41.90491</td>\n",
              "      <td>-87.63213</td>\n",
              "      <td>Entire home/apt</td>\n",
              "      <td>99</td>\n",
              "      <td>7</td>\n",
              "      <td>11</td>\n",
              "      <td>2021-05-09</td>\n",
              "      <td>0.14</td>\n",
              "      <td>1</td>\n",
              "      <td>242</td>\n",
              "    </tr>\n",
              "    <tr>\n",
              "      <th>4</th>\n",
              "      <td>12140</td>\n",
              "      <td>Lincoln Park Guest House</td>\n",
              "      <td>46734</td>\n",
              "      <td>Sharon And Robert</td>\n",
              "      <td>Lincoln Park</td>\n",
              "      <td>41.92357</td>\n",
              "      <td>-87.64947</td>\n",
              "      <td>Private room</td>\n",
              "      <td>329</td>\n",
              "      <td>2</td>\n",
              "      <td>7</td>\n",
              "      <td>2021-07-06</td>\n",
              "      <td>0.10</td>\n",
              "      <td>1</td>\n",
              "      <td>165</td>\n",
              "    </tr>\n",
              "  </tbody>\n",
              "</table>\n",
              "</div>"
            ],
            "text/plain": [
              "      id  ... availability_365\n",
              "0   2384  ...              338\n",
              "1   7126  ...               59\n",
              "2  10945  ...              102\n",
              "3  12068  ...              242\n",
              "4  12140  ...              165\n",
              "\n",
              "[5 rows x 15 columns]"
            ]
          },
          "metadata": {
            "tags": []
          },
          "execution_count": 345
        }
      ]
    },
    {
      "cell_type": "markdown",
      "metadata": {
        "id": "VNiqVFYyGq3v"
      },
      "source": [
        "Quantidade de anúncios que pertencem a anunciantes com mais de 1 anúncio ativo:"
      ]
    },
    {
      "cell_type": "code",
      "metadata": {
        "colab": {
          "base_uri": "https://localhost:8080/"
        },
        "id": "1ZEdS5GfKtEr",
        "outputId": "7045822d-2521-4ff6-dc2d-3d72fd00abdb"
      },
      "source": [
        "items_from_hosts_with_more_than_one = df[df.calculated_host_listings_count > 1]\n",
        "items_from_hosts_with_more_than_one.shape[0]"
      ],
      "execution_count": 346,
      "outputs": [
        {
          "output_type": "execute_result",
          "data": {
            "text/plain": [
              "3794"
            ]
          },
          "metadata": {
            "tags": []
          },
          "execution_count": 346
        }
      ]
    },
    {
      "cell_type": "markdown",
      "metadata": {
        "id": "xact2WStGw6c"
      },
      "source": [
        "Quantidade de anúncios que pertencem a anunciantes com apenas 1 anúncio ativo:"
      ]
    },
    {
      "cell_type": "code",
      "metadata": {
        "colab": {
          "base_uri": "https://localhost:8080/"
        },
        "id": "9FII3vskTGhR",
        "outputId": "db5413ce-29c0-4031-86e6-fb198c1600e8"
      },
      "source": [
        "items_from_hosts_with_only_one = df[df.calculated_host_listings_count == 1]\n",
        "items_from_hosts_with_only_one.shape[0]"
      ],
      "execution_count": 347,
      "outputs": [
        {
          "output_type": "execute_result",
          "data": {
            "text/plain": [
              "2572"
            ]
          },
          "metadata": {
            "tags": []
          },
          "execution_count": 347
        }
      ]
    },
    {
      "cell_type": "markdown",
      "metadata": {
        "id": "f-swcjZEGYTP"
      },
      "source": [
        "Quantidade de anúncios ativos na plataforma: 6366"
      ]
    },
    {
      "cell_type": "code",
      "metadata": {
        "colab": {
          "base_uri": "https://localhost:8080/"
        },
        "id": "7ugalioKGGrT",
        "outputId": "ff969204-f02f-4092-f7bd-0674b5e7b722"
      },
      "source": [
        "items_from_hosts_with_more_than_one.shape[0] + items_from_hosts_with_only_one.shape[0]"
      ],
      "execution_count": 348,
      "outputs": [
        {
          "output_type": "execute_result",
          "data": {
            "text/plain": [
              "6366"
            ]
          },
          "metadata": {
            "tags": []
          },
          "execution_count": 348
        }
      ]
    },
    {
      "cell_type": "code",
      "metadata": {
        "colab": {
          "base_uri": "https://localhost:8080/"
        },
        "id": "3zmlbPZnQP2A",
        "outputId": "b8009e3e-14f4-4401-c371-466c609407fb"
      },
      "source": [
        "df.shape[0]"
      ],
      "execution_count": 349,
      "outputs": [
        {
          "output_type": "execute_result",
          "data": {
            "text/plain": [
              "6366"
            ]
          },
          "metadata": {
            "tags": []
          },
          "execution_count": 349
        }
      ]
    },
    {
      "cell_type": "markdown",
      "metadata": {
        "id": "8APwdjWyGlEA"
      },
      "source": [
        "Quantidade de anunciantes ativos na plataforma: 3371"
      ]
    },
    {
      "cell_type": "code",
      "metadata": {
        "colab": {
          "base_uri": "https://localhost:8080/"
        },
        "id": "QP1UCNw-E1yK",
        "outputId": "6db9fd1e-92f3-413c-ba91-df078629b008"
      },
      "source": [
        "hosts_unique = df.host_id.unique()\n",
        "hosts_quantity = len(hosts_unique)\n",
        "hosts_quantity"
      ],
      "execution_count": 350,
      "outputs": [
        {
          "output_type": "execute_result",
          "data": {
            "text/plain": [
              "3371"
            ]
          },
          "metadata": {
            "tags": []
          },
          "execution_count": 350
        }
      ]
    },
    {
      "cell_type": "code",
      "metadata": {
        "colab": {
          "base_uri": "https://localhost:8080/"
        },
        "id": "lnJ_pcUeHHTK",
        "outputId": "0b7697f4-1ea3-4f67-baa9-6fe480ce2079"
      },
      "source": [
        "hosts_with_more_than_one = hosts_quantity - items_from_hosts_with_only_one.shape[0]\n",
        "hosts_with_more_than_one"
      ],
      "execution_count": 351,
      "outputs": [
        {
          "output_type": "execute_result",
          "data": {
            "text/plain": [
              "799"
            ]
          },
          "metadata": {
            "tags": []
          },
          "execution_count": 351
        }
      ]
    },
    {
      "cell_type": "code",
      "metadata": {
        "colab": {
          "base_uri": "https://localhost:8080/"
        },
        "id": "oyzNUqh1Jco0",
        "outputId": "ee23458c-831b-4af1-d608-520fb95d7343"
      },
      "source": [
        "hosts_with_more_than_one_percent = (hosts_with_more_than_one*100)/hosts_quantity\n",
        "hosts_with_more_than_one_percent"
      ],
      "execution_count": 352,
      "outputs": [
        {
          "output_type": "execute_result",
          "data": {
            "text/plain": [
              "23.702165529516463"
            ]
          },
          "metadata": {
            "tags": []
          },
          "execution_count": 352
        }
      ]
    },
    {
      "cell_type": "code",
      "metadata": {
        "colab": {
          "base_uri": "https://localhost:8080/"
        },
        "id": "maEp-EG1J8cd",
        "outputId": "79ed12b7-415f-47a1-afbc-c28c4d2ab627"
      },
      "source": [
        "items_from_hosts_with_more_than_one_percent = (items_from_hosts_with_more_than_one.shape[0]*100)/df.shape[0]\n",
        "items_from_hosts_with_more_than_one_percent"
      ],
      "execution_count": 353,
      "outputs": [
        {
          "output_type": "execute_result",
          "data": {
            "text/plain": [
              "59.597863650644044"
            ]
          },
          "metadata": {
            "tags": []
          },
          "execution_count": 353
        }
      ]
    },
    {
      "cell_type": "markdown",
      "metadata": {
        "id": "gsyK2VJ_T3Lk"
      },
      "source": [
        "23,7% (799) dos usuários anunciantes são responsáveis por 59,59% (3794) anúncios na plataforma, contra 40,41% (2572) anúncios de usuários que possuem apenas 1 imóvel/quarto/ambiente disponível. O que pode representar tanto a consolidação do uso da plataforma por empresas e negócios, bem como pode representar uma multiplicidade de anúncios para um mesmo imóvel (quarto1/quarto2/imóvel completo). Esta informação também pode indicar que estratégias de marketing para empresas de locação e locatários com mais de 1 imóvel/anúncio (objetivo comercial da locação) podem ser mais eficázes que estratégias voltados ao aluguel de varejo. \n",
        "\n",
        "***Uma análise mais aprofundada pode ser realizada caso este seja o objetivo da exploração.***"
      ]
    },
    {
      "cell_type": "code",
      "metadata": {
        "colab": {
          "base_uri": "https://localhost:8080/"
        },
        "id": "g4bXORrJL3Sw",
        "outputId": "ec203d8d-46ea-411f-db73-436d1f9a87a2"
      },
      "source": [
        "len(ids_from_hosts_with_more_than_one.host_id.unique())\n"
      ],
      "execution_count": 55,
      "outputs": [
        {
          "output_type": "execute_result",
          "data": {
            "text/plain": [
              "799"
            ]
          },
          "metadata": {
            "tags": []
          },
          "execution_count": 55
        }
      ]
    },
    {
      "cell_type": "code",
      "metadata": {
        "colab": {
          "base_uri": "https://localhost:8080/"
        },
        "id": "qnpHF9b0PU6z",
        "outputId": "36499bde-5c6e-4609-dc13-d6f63202d93c"
      },
      "source": [
        "new_items = (1084*100)/df.shape[0]\n",
        "new_items"
      ],
      "execution_count": 63,
      "outputs": [
        {
          "output_type": "execute_result",
          "data": {
            "text/plain": [
              "17.027961043041156"
            ]
          },
          "metadata": {
            "tags": []
          },
          "execution_count": 63
        }
      ]
    },
    {
      "cell_type": "markdown",
      "metadata": {
        "id": "qb5By2nIMS6m"
      },
      "source": [
        "## Análise dos Dados\n"
      ]
    },
    {
      "cell_type": "code",
      "metadata": {
        "id": "2iS_dae7YQtO",
        "colab": {
          "base_uri": "https://localhost:8080/",
          "height": 0
        },
        "outputId": "f1e6c606-9166-4f49-bbd5-e3751fecba31"
      },
      "source": [
        "# mostrar as 5 primeiras entradas\n",
        "df.head(5)"
      ],
      "execution_count": 65,
      "outputs": [
        {
          "output_type": "execute_result",
          "data": {
            "text/html": [
              "<div>\n",
              "<style scoped>\n",
              "    .dataframe tbody tr th:only-of-type {\n",
              "        vertical-align: middle;\n",
              "    }\n",
              "\n",
              "    .dataframe tbody tr th {\n",
              "        vertical-align: top;\n",
              "    }\n",
              "\n",
              "    .dataframe thead th {\n",
              "        text-align: right;\n",
              "    }\n",
              "</style>\n",
              "<table border=\"1\" class=\"dataframe\">\n",
              "  <thead>\n",
              "    <tr style=\"text-align: right;\">\n",
              "      <th></th>\n",
              "      <th>id</th>\n",
              "      <th>name</th>\n",
              "      <th>host_id</th>\n",
              "      <th>host_name</th>\n",
              "      <th>neighbourhood</th>\n",
              "      <th>latitude</th>\n",
              "      <th>longitude</th>\n",
              "      <th>room_type</th>\n",
              "      <th>price</th>\n",
              "      <th>minimum_nights</th>\n",
              "      <th>number_of_reviews</th>\n",
              "      <th>last_review</th>\n",
              "      <th>reviews_per_month</th>\n",
              "      <th>calculated_host_listings_count</th>\n",
              "      <th>availability_365</th>\n",
              "    </tr>\n",
              "  </thead>\n",
              "  <tbody>\n",
              "    <tr>\n",
              "      <th>0</th>\n",
              "      <td>2384</td>\n",
              "      <td>Hyde Park - Walk to University of Chicago</td>\n",
              "      <td>2613</td>\n",
              "      <td>Rebecca</td>\n",
              "      <td>Hyde Park</td>\n",
              "      <td>41.78790</td>\n",
              "      <td>-87.58780</td>\n",
              "      <td>Private room</td>\n",
              "      <td>85</td>\n",
              "      <td>1</td>\n",
              "      <td>185</td>\n",
              "      <td>2021-06-21</td>\n",
              "      <td>2.45</td>\n",
              "      <td>1</td>\n",
              "      <td>338</td>\n",
              "    </tr>\n",
              "    <tr>\n",
              "      <th>1</th>\n",
              "      <td>7126</td>\n",
              "      <td>Tiny Studio Apartment 94 Walk Score</td>\n",
              "      <td>17928</td>\n",
              "      <td>Sarah</td>\n",
              "      <td>West Town</td>\n",
              "      <td>41.90166</td>\n",
              "      <td>-87.68021</td>\n",
              "      <td>Entire home/apt</td>\n",
              "      <td>65</td>\n",
              "      <td>2</td>\n",
              "      <td>401</td>\n",
              "      <td>2021-05-22</td>\n",
              "      <td>3.32</td>\n",
              "      <td>1</td>\n",
              "      <td>59</td>\n",
              "    </tr>\n",
              "    <tr>\n",
              "      <th>2</th>\n",
              "      <td>10945</td>\n",
              "      <td>The Biddle House (#1)</td>\n",
              "      <td>33004</td>\n",
              "      <td>At Home Inn</td>\n",
              "      <td>Lincoln Park</td>\n",
              "      <td>41.91196</td>\n",
              "      <td>-87.63981</td>\n",
              "      <td>Entire home/apt</td>\n",
              "      <td>143</td>\n",
              "      <td>4</td>\n",
              "      <td>28</td>\n",
              "      <td>2021-06-21</td>\n",
              "      <td>0.32</td>\n",
              "      <td>10</td>\n",
              "      <td>102</td>\n",
              "    </tr>\n",
              "    <tr>\n",
              "      <th>3</th>\n",
              "      <td>12068</td>\n",
              "      <td>Chicago GOLD COAST 1 Bedroom Condo</td>\n",
              "      <td>40731</td>\n",
              "      <td>Dominic</td>\n",
              "      <td>Near North Side</td>\n",
              "      <td>41.90491</td>\n",
              "      <td>-87.63213</td>\n",
              "      <td>Entire home/apt</td>\n",
              "      <td>99</td>\n",
              "      <td>7</td>\n",
              "      <td>11</td>\n",
              "      <td>2021-05-09</td>\n",
              "      <td>0.14</td>\n",
              "      <td>1</td>\n",
              "      <td>242</td>\n",
              "    </tr>\n",
              "    <tr>\n",
              "      <th>4</th>\n",
              "      <td>12140</td>\n",
              "      <td>Lincoln Park Guest House</td>\n",
              "      <td>46734</td>\n",
              "      <td>Sharon And Robert</td>\n",
              "      <td>Lincoln Park</td>\n",
              "      <td>41.92357</td>\n",
              "      <td>-87.64947</td>\n",
              "      <td>Private room</td>\n",
              "      <td>329</td>\n",
              "      <td>2</td>\n",
              "      <td>7</td>\n",
              "      <td>2021-07-06</td>\n",
              "      <td>0.10</td>\n",
              "      <td>1</td>\n",
              "      <td>165</td>\n",
              "    </tr>\n",
              "  </tbody>\n",
              "</table>\n",
              "</div>"
            ],
            "text/plain": [
              "      id  ... availability_365\n",
              "0   2384  ...              338\n",
              "1   7126  ...               59\n",
              "2  10945  ...              102\n",
              "3  12068  ...              242\n",
              "4  12140  ...              165\n",
              "\n",
              "[5 rows x 15 columns]"
            ]
          },
          "metadata": {
            "tags": []
          },
          "execution_count": 65
        }
      ]
    },
    {
      "cell_type": "markdown",
      "metadata": {
        "id": "6-B_qtEaYEd-"
      },
      "source": [
        "### **Q1. Quantos atributos (variáveis) e quantas entradas o nosso conjunto de dados possui? Quais os tipos das variáveis?**"
      ]
    },
    {
      "cell_type": "code",
      "metadata": {
        "id": "TFRK0tniLV-G",
        "colab": {
          "base_uri": "https://localhost:8080/"
        },
        "outputId": "32a1fc90-c70a-4baa-c311-1bad1538f7c9"
      },
      "source": [
        "# identificar o volume de dados do DataFrame\n",
        "df.shape"
      ],
      "execution_count": 98,
      "outputs": [
        {
          "output_type": "execute_result",
          "data": {
            "text/plain": [
              "(6366, 15)"
            ]
          },
          "metadata": {
            "tags": []
          },
          "execution_count": 98
        }
      ]
    },
    {
      "cell_type": "code",
      "metadata": {
        "colab": {
          "base_uri": "https://localhost:8080/",
          "height": 340
        },
        "id": "ONTZpeQySkGJ",
        "outputId": "1eccdaa8-05f8-48b3-bf3a-fc55f17893ab"
      },
      "source": [
        "# verificar as 5 primeiras entradas do dataset\n",
        "df.head(5)"
      ],
      "execution_count": 337,
      "outputs": [
        {
          "output_type": "execute_result",
          "data": {
            "text/html": [
              "<div>\n",
              "<style scoped>\n",
              "    .dataframe tbody tr th:only-of-type {\n",
              "        vertical-align: middle;\n",
              "    }\n",
              "\n",
              "    .dataframe tbody tr th {\n",
              "        vertical-align: top;\n",
              "    }\n",
              "\n",
              "    .dataframe thead th {\n",
              "        text-align: right;\n",
              "    }\n",
              "</style>\n",
              "<table border=\"1\" class=\"dataframe\">\n",
              "  <thead>\n",
              "    <tr style=\"text-align: right;\">\n",
              "      <th></th>\n",
              "      <th>id</th>\n",
              "      <th>name</th>\n",
              "      <th>host_id</th>\n",
              "      <th>host_name</th>\n",
              "      <th>neighbourhood</th>\n",
              "      <th>latitude</th>\n",
              "      <th>longitude</th>\n",
              "      <th>room_type</th>\n",
              "      <th>price</th>\n",
              "      <th>minimum_nights</th>\n",
              "      <th>number_of_reviews</th>\n",
              "      <th>last_review</th>\n",
              "      <th>reviews_per_month</th>\n",
              "      <th>calculated_host_listings_count</th>\n",
              "      <th>availability_365</th>\n",
              "    </tr>\n",
              "  </thead>\n",
              "  <tbody>\n",
              "    <tr>\n",
              "      <th>0</th>\n",
              "      <td>2384</td>\n",
              "      <td>Hyde Park - Walk to University of Chicago</td>\n",
              "      <td>2613</td>\n",
              "      <td>Rebecca</td>\n",
              "      <td>Hyde Park</td>\n",
              "      <td>41.78790</td>\n",
              "      <td>-87.58780</td>\n",
              "      <td>Private room</td>\n",
              "      <td>85</td>\n",
              "      <td>1</td>\n",
              "      <td>185</td>\n",
              "      <td>2021-06-21</td>\n",
              "      <td>2.45</td>\n",
              "      <td>1</td>\n",
              "      <td>338</td>\n",
              "    </tr>\n",
              "    <tr>\n",
              "      <th>1</th>\n",
              "      <td>7126</td>\n",
              "      <td>Tiny Studio Apartment 94 Walk Score</td>\n",
              "      <td>17928</td>\n",
              "      <td>Sarah</td>\n",
              "      <td>West Town</td>\n",
              "      <td>41.90166</td>\n",
              "      <td>-87.68021</td>\n",
              "      <td>Entire home/apt</td>\n",
              "      <td>65</td>\n",
              "      <td>2</td>\n",
              "      <td>401</td>\n",
              "      <td>2021-05-22</td>\n",
              "      <td>3.32</td>\n",
              "      <td>1</td>\n",
              "      <td>59</td>\n",
              "    </tr>\n",
              "    <tr>\n",
              "      <th>2</th>\n",
              "      <td>10945</td>\n",
              "      <td>The Biddle House (#1)</td>\n",
              "      <td>33004</td>\n",
              "      <td>At Home Inn</td>\n",
              "      <td>Lincoln Park</td>\n",
              "      <td>41.91196</td>\n",
              "      <td>-87.63981</td>\n",
              "      <td>Entire home/apt</td>\n",
              "      <td>143</td>\n",
              "      <td>4</td>\n",
              "      <td>28</td>\n",
              "      <td>2021-06-21</td>\n",
              "      <td>0.32</td>\n",
              "      <td>10</td>\n",
              "      <td>102</td>\n",
              "    </tr>\n",
              "    <tr>\n",
              "      <th>3</th>\n",
              "      <td>12068</td>\n",
              "      <td>Chicago GOLD COAST 1 Bedroom Condo</td>\n",
              "      <td>40731</td>\n",
              "      <td>Dominic</td>\n",
              "      <td>Near North Side</td>\n",
              "      <td>41.90491</td>\n",
              "      <td>-87.63213</td>\n",
              "      <td>Entire home/apt</td>\n",
              "      <td>99</td>\n",
              "      <td>7</td>\n",
              "      <td>11</td>\n",
              "      <td>2021-05-09</td>\n",
              "      <td>0.14</td>\n",
              "      <td>1</td>\n",
              "      <td>242</td>\n",
              "    </tr>\n",
              "    <tr>\n",
              "      <th>4</th>\n",
              "      <td>12140</td>\n",
              "      <td>Lincoln Park Guest House</td>\n",
              "      <td>46734</td>\n",
              "      <td>Sharon And Robert</td>\n",
              "      <td>Lincoln Park</td>\n",
              "      <td>41.92357</td>\n",
              "      <td>-87.64947</td>\n",
              "      <td>Private room</td>\n",
              "      <td>329</td>\n",
              "      <td>2</td>\n",
              "      <td>7</td>\n",
              "      <td>2021-07-06</td>\n",
              "      <td>0.10</td>\n",
              "      <td>1</td>\n",
              "      <td>165</td>\n",
              "    </tr>\n",
              "  </tbody>\n",
              "</table>\n",
              "</div>"
            ],
            "text/plain": [
              "      id  ... availability_365\n",
              "0   2384  ...              338\n",
              "1   7126  ...               59\n",
              "2  10945  ...              102\n",
              "3  12068  ...              242\n",
              "4  12140  ...              165\n",
              "\n",
              "[5 rows x 15 columns]"
            ]
          },
          "metadata": {
            "tags": []
          },
          "execution_count": 337
        }
      ]
    },
    {
      "cell_type": "markdown",
      "metadata": {
        "id": "yz1urSUGW9iE"
      },
      "source": [
        "### **Q2. Qual a porcentagem de valores ausentes no *dataset*?**"
      ]
    },
    {
      "cell_type": "code",
      "metadata": {
        "id": "plk2FjbCXOqP",
        "colab": {
          "base_uri": "https://localhost:8080/"
        },
        "outputId": "ae2144d3-3041-45d2-c947-c186cbf6e2c2"
      },
      "source": [
        "# ordenar em ordem decrescente as variáveis por seus valores ausentes\n",
        "df.isnull().sum() / df.shape[0]"
      ],
      "execution_count": 354,
      "outputs": [
        {
          "output_type": "execute_result",
          "data": {
            "text/plain": [
              "id                                0.000000\n",
              "name                              0.000000\n",
              "host_id                           0.000000\n",
              "host_name                         0.000157\n",
              "neighbourhood                     0.000000\n",
              "latitude                          0.000000\n",
              "longitude                         0.000000\n",
              "room_type                         0.000000\n",
              "price                             0.000000\n",
              "minimum_nights                    0.000000\n",
              "number_of_reviews                 0.000000\n",
              "last_review                       0.170280\n",
              "reviews_per_month                 0.170280\n",
              "calculated_host_listings_count    0.000000\n",
              "availability_365                  0.000000\n",
              "dtype: float64"
            ]
          },
          "metadata": {
            "tags": []
          },
          "execution_count": 354
        }
      ]
    },
    {
      "cell_type": "markdown",
      "metadata": {
        "id": "iHXvvHIxaoNc"
      },
      "source": [
        "### **Q3. Qual o tipo de distribuição das variáveis?** "
      ]
    },
    {
      "cell_type": "code",
      "metadata": {
        "id": "q2wWSfeRbmBo",
        "colab": {
          "base_uri": "https://localhost:8080/",
          "height": 607
        },
        "outputId": "5b51caeb-6a1e-498f-befa-db6ca603890b"
      },
      "source": [
        "# plotar o histograma das variáveis numéricas\n",
        "df.hist(bins=15, figsize=(15,10));"
      ],
      "execution_count": 355,
      "outputs": [
        {
          "output_type": "display_data",
          "data": {
            "image/png": "[encoded data removed]",
            "text/plain": [
              "<Figure size 1080x720 with 12 Axes>"
            ]
          },
          "metadata": {
            "tags": [],
            "needs_background": "light"
          }
        }
      ]
    },
    {
      "cell_type": "markdown",
      "metadata": {
        "id": "7x4aw1j5wNmn"
      },
      "source": [
        "### **Q4. Qual a média dos preços de aluguel?**"
      ]
    },
    {
      "cell_type": "code",
      "metadata": {
        "id": "ff-8gUahLk-C",
        "colab": {
          "base_uri": "https://localhost:8080/"
        },
        "outputId": "5c5dc25a-4055-4dfb-fa6b-e8dcea21b1cf"
      },
      "source": [
        "# ver a média da coluna `price``\n",
        "df.price.mean()"
      ],
      "execution_count": 104,
      "outputs": [
        {
          "output_type": "execute_result",
          "data": {
            "text/plain": [
              "183.09550738297204"
            ]
          },
          "metadata": {
            "tags": []
          },
          "execution_count": 104
        }
      ]
    },
    {
      "cell_type": "markdown",
      "metadata": {
        "id": "IXn2oIo5qx-w"
      },
      "source": [
        "### **Q4. Qual a correlação existente entre as variáveis**"
      ]
    },
    {
      "cell_type": "code",
      "metadata": {
        "id": "x2ayzBajqxyd",
        "colab": {
          "base_uri": "https://localhost:8080/",
          "height": 359
        },
        "outputId": "9a1f05d2-da69-4ffd-c3f4-48363cc8d600"
      },
      "source": [
        "# criar uma matriz de correlação\n",
        "cor = df.corr()\n",
        "# mostrar a matriz de correlação\n",
        "cor"
      ],
      "execution_count": 109,
      "outputs": [
        {
          "output_type": "execute_result",
          "data": {
            "text/html": [
              "<div>\n",
              "<style scoped>\n",
              "    .dataframe tbody tr th:only-of-type {\n",
              "        vertical-align: middle;\n",
              "    }\n",
              "\n",
              "    .dataframe tbody tr th {\n",
              "        vertical-align: top;\n",
              "    }\n",
              "\n",
              "    .dataframe thead th {\n",
              "        text-align: right;\n",
              "    }\n",
              "</style>\n",
              "<table border=\"1\" class=\"dataframe\">\n",
              "  <thead>\n",
              "    <tr style=\"text-align: right;\">\n",
              "      <th></th>\n",
              "      <th>id</th>\n",
              "      <th>host_id</th>\n",
              "      <th>latitude</th>\n",
              "      <th>longitude</th>\n",
              "      <th>price</th>\n",
              "      <th>minimum_nights</th>\n",
              "      <th>number_of_reviews</th>\n",
              "      <th>reviews_per_month</th>\n",
              "      <th>calculated_host_listings_count</th>\n",
              "      <th>availability_365</th>\n",
              "    </tr>\n",
              "  </thead>\n",
              "  <tbody>\n",
              "    <tr>\n",
              "      <th>id</th>\n",
              "      <td>1.000000</td>\n",
              "      <td>0.511443</td>\n",
              "      <td>-0.113966</td>\n",
              "      <td>0.104677</td>\n",
              "      <td>0.047472</td>\n",
              "      <td>-0.013893</td>\n",
              "      <td>-0.499892</td>\n",
              "      <td>0.090119</td>\n",
              "      <td>0.189280</td>\n",
              "      <td>0.116844</td>\n",
              "    </tr>\n",
              "    <tr>\n",
              "      <th>host_id</th>\n",
              "      <td>0.511443</td>\n",
              "      <td>1.000000</td>\n",
              "      <td>-0.142116</td>\n",
              "      <td>0.092386</td>\n",
              "      <td>0.032022</td>\n",
              "      <td>-0.025975</td>\n",
              "      <td>-0.231395</td>\n",
              "      <td>0.076787</td>\n",
              "      <td>-0.031579</td>\n",
              "      <td>0.085260</td>\n",
              "    </tr>\n",
              "    <tr>\n",
              "      <th>latitude</th>\n",
              "      <td>-0.113966</td>\n",
              "      <td>-0.142116</td>\n",
              "      <td>1.000000</td>\n",
              "      <td>-0.513209</td>\n",
              "      <td>0.036633</td>\n",
              "      <td>-0.017387</td>\n",
              "      <td>0.070251</td>\n",
              "      <td>0.039936</td>\n",
              "      <td>-0.031489</td>\n",
              "      <td>-0.075602</td>\n",
              "    </tr>\n",
              "    <tr>\n",
              "      <th>longitude</th>\n",
              "      <td>0.104677</td>\n",
              "      <td>0.092386</td>\n",
              "      <td>-0.513209</td>\n",
              "      <td>1.000000</td>\n",
              "      <td>0.069628</td>\n",
              "      <td>0.093104</td>\n",
              "      <td>-0.095800</td>\n",
              "      <td>-0.032201</td>\n",
              "      <td>0.189848</td>\n",
              "      <td>0.060440</td>\n",
              "    </tr>\n",
              "    <tr>\n",
              "      <th>price</th>\n",
              "      <td>0.047472</td>\n",
              "      <td>0.032022</td>\n",
              "      <td>0.036633</td>\n",
              "      <td>0.069628</td>\n",
              "      <td>1.000000</td>\n",
              "      <td>-0.009440</td>\n",
              "      <td>-0.071542</td>\n",
              "      <td>-0.024653</td>\n",
              "      <td>0.011101</td>\n",
              "      <td>0.059591</td>\n",
              "    </tr>\n",
              "    <tr>\n",
              "      <th>minimum_nights</th>\n",
              "      <td>-0.013893</td>\n",
              "      <td>-0.025975</td>\n",
              "      <td>-0.017387</td>\n",
              "      <td>0.093104</td>\n",
              "      <td>-0.009440</td>\n",
              "      <td>1.000000</td>\n",
              "      <td>-0.137630</td>\n",
              "      <td>-0.092003</td>\n",
              "      <td>0.214067</td>\n",
              "      <td>0.177503</td>\n",
              "    </tr>\n",
              "    <tr>\n",
              "      <th>number_of_reviews</th>\n",
              "      <td>-0.499892</td>\n",
              "      <td>-0.231395</td>\n",
              "      <td>0.070251</td>\n",
              "      <td>-0.095800</td>\n",
              "      <td>-0.071542</td>\n",
              "      <td>-0.137630</td>\n",
              "      <td>1.000000</td>\n",
              "      <td>0.316040</td>\n",
              "      <td>-0.147691</td>\n",
              "      <td>-0.019179</td>\n",
              "    </tr>\n",
              "    <tr>\n",
              "      <th>reviews_per_month</th>\n",
              "      <td>0.090119</td>\n",
              "      <td>0.076787</td>\n",
              "      <td>0.039936</td>\n",
              "      <td>-0.032201</td>\n",
              "      <td>-0.024653</td>\n",
              "      <td>-0.092003</td>\n",
              "      <td>0.316040</td>\n",
              "      <td>1.000000</td>\n",
              "      <td>-0.037070</td>\n",
              "      <td>0.088119</td>\n",
              "    </tr>\n",
              "    <tr>\n",
              "      <th>calculated_host_listings_count</th>\n",
              "      <td>0.189280</td>\n",
              "      <td>-0.031579</td>\n",
              "      <td>-0.031489</td>\n",
              "      <td>0.189848</td>\n",
              "      <td>0.011101</td>\n",
              "      <td>0.214067</td>\n",
              "      <td>-0.147691</td>\n",
              "      <td>-0.037070</td>\n",
              "      <td>1.000000</td>\n",
              "      <td>0.228136</td>\n",
              "    </tr>\n",
              "    <tr>\n",
              "      <th>availability_365</th>\n",
              "      <td>0.116844</td>\n",
              "      <td>0.085260</td>\n",
              "      <td>-0.075602</td>\n",
              "      <td>0.060440</td>\n",
              "      <td>0.059591</td>\n",
              "      <td>0.177503</td>\n",
              "      <td>-0.019179</td>\n",
              "      <td>0.088119</td>\n",
              "      <td>0.228136</td>\n",
              "      <td>1.000000</td>\n",
              "    </tr>\n",
              "  </tbody>\n",
              "</table>\n",
              "</div>"
            ],
            "text/plain": [
              "                                      id  ...  availability_365\n",
              "id                              1.000000  ...          0.116844\n",
              "host_id                         0.511443  ...          0.085260\n",
              "latitude                       -0.113966  ...         -0.075602\n",
              "longitude                       0.104677  ...          0.060440\n",
              "price                           0.047472  ...          0.059591\n",
              "minimum_nights                 -0.013893  ...          0.177503\n",
              "number_of_reviews              -0.499892  ...         -0.019179\n",
              "reviews_per_month               0.090119  ...          0.088119\n",
              "calculated_host_listings_count  0.189280  ...          0.228136\n",
              "availability_365                0.116844  ...          1.000000\n",
              "\n",
              "[10 rows x 10 columns]"
            ]
          },
          "metadata": {
            "tags": []
          },
          "execution_count": 109
        }
      ]
    },
    {
      "cell_type": "code",
      "metadata": {
        "id": "91UujDr6ueqE",
        "colab": {
          "base_uri": "https://localhost:8080/",
          "height": 265
        },
        "outputId": "472c1242-d5b9-4ad5-f667-74620dc9153c"
      },
      "source": [
        "# plotar um heatmap a partir das correlações\n",
        "plt.imshow(cor, cmap='hot', interpolation='nearest')\n",
        "plt.show()"
      ],
      "execution_count": 114,
      "outputs": [
        {
          "output_type": "display_data",
          "data": {
            "image/png": "[encoded data removed]",
            "text/plain": [
              "<Figure size 432x288 with 1 Axes>"
            ]
          },
          "metadata": {
            "tags": [],
            "needs_background": "light"
          }
        }
      ]
    },
    {
      "cell_type": "markdown",
      "metadata": {
        "id": "7b6RMWpuHKN-"
      },
      "source": [
        "### **Q5. Qual o tipo de imóvel mais alugado no Airbnb?**"
      ]
    },
    {
      "cell_type": "code",
      "metadata": {
        "id": "ueLPNWvPHgfB",
        "colab": {
          "base_uri": "https://localhost:8080/"
        },
        "outputId": "37f163c3-938b-4952-cc0f-7de23a537c0e"
      },
      "source": [
        "# mostrar a quantidade de cada tipo de imóvel disponível\n",
        "df.room_type.value_counts()"
      ],
      "execution_count": 135,
      "outputs": [
        {
          "output_type": "execute_result",
          "data": {
            "text/plain": [
              "Entire home/apt    4541\n",
              "Private room       1669\n",
              "Shared room          87\n",
              "Hotel room           69\n",
              "Name: room_type, dtype: int64"
            ]
          },
          "metadata": {
            "tags": []
          },
          "execution_count": 135
        }
      ]
    },
    {
      "cell_type": "code",
      "metadata": {
        "id": "EvwoO-XAHhIm",
        "colab": {
          "base_uri": "https://localhost:8080/"
        },
        "outputId": "97e99f8f-2e75-4b96-e9d7-4b49c94c60db"
      },
      "source": [
        "# mostrar a porcentagem de cada tipo de imóvel disponível\n",
        "df.room_type.value_counts() / df.shape[0]"
      ],
      "execution_count": 136,
      "outputs": [
        {
          "output_type": "execute_result",
          "data": {
            "text/plain": [
              "Entire home/apt    0.713321\n",
              "Private room       0.262174\n",
              "Shared room        0.013666\n",
              "Hotel room         0.010839\n",
              "Name: room_type, dtype: float64"
            ]
          },
          "metadata": {
            "tags": []
          },
          "execution_count": 136
        }
      ]
    },
    {
      "cell_type": "markdown",
      "metadata": {
        "id": "MFa5NbnLJMcd"
      },
      "source": [
        "### **Q6. Qual a localidade mais cara do dataset?**\n",
        "\n"
      ]
    },
    {
      "cell_type": "markdown",
      "metadata": {
        "id": "iJsAt4nEaeTZ"
      },
      "source": [
        "# Loop com uma média de $331,39\n",
        "**Detalhes disponibilizados na seção seguinte**"
      ]
    },
    {
      "cell_type": "code",
      "metadata": {
        "id": "1OrtLaWCUit4"
      },
      "source": [
        "# pega a quantidade de anuncios, ordena pelo índice e coloca no dataframe\n",
        "table = df.neighbourhood.value_counts()\n",
        "dfA = pd.DataFrame(data=table)\n",
        "dfA.sort_index(inplace=True)\n",
        "\n",
        "# pega a média de preços por região e coloca no dataframe\n",
        "regioes = df.groupby('neighbourhood').price.mean()\n",
        "dfB = pd.DataFrame(data=regioes)\n",
        "\n",
        "# junta os dataframes, renomeia as colunas e ordena pela quantidade de anúncios\n",
        "dfC = dfA.join(dfB)\n",
        "dfC.columns = ['qtde_anuncios', 'preco_medio']"
      ],
      "execution_count": 329,
      "outputs": []
    },
    {
      "cell_type": "markdown",
      "metadata": {
        "id": "KWzh5BiNU4Iw"
      },
      "source": [
        "# Bairros ordenados por quantidade de anúncios"
      ]
    },
    {
      "cell_type": "code",
      "metadata": {
        "colab": {
          "base_uri": "https://localhost:8080/",
          "height": 419
        },
        "id": "CWai27BMRuhH",
        "outputId": "16d6d3f1-2168-4f09-8d57-dd189f90f679"
      },
      "source": [
        "dfC.sort_values('qtde_anuncios', ascending=False, inplace=True)\n",
        "dfC"
      ],
      "execution_count": 331,
      "outputs": [
        {
          "output_type": "execute_result",
          "data": {
            "text/html": [
              "<div>\n",
              "<style scoped>\n",
              "    .dataframe tbody tr th:only-of-type {\n",
              "        vertical-align: middle;\n",
              "    }\n",
              "\n",
              "    .dataframe tbody tr th {\n",
              "        vertical-align: top;\n",
              "    }\n",
              "\n",
              "    .dataframe thead th {\n",
              "        text-align: right;\n",
              "    }\n",
              "</style>\n",
              "<table border=\"1\" class=\"dataframe\">\n",
              "  <thead>\n",
              "    <tr style=\"text-align: right;\">\n",
              "      <th></th>\n",
              "      <th>qtde_anuncios</th>\n",
              "      <th>preco_medio</th>\n",
              "    </tr>\n",
              "  </thead>\n",
              "  <tbody>\n",
              "    <tr>\n",
              "      <th>Near North Side</th>\n",
              "      <td>722</td>\n",
              "      <td>249.343490</td>\n",
              "    </tr>\n",
              "    <tr>\n",
              "      <th>West Town</th>\n",
              "      <td>679</td>\n",
              "      <td>210.416789</td>\n",
              "    </tr>\n",
              "    <tr>\n",
              "      <th>Lake View</th>\n",
              "      <td>574</td>\n",
              "      <td>244.590592</td>\n",
              "    </tr>\n",
              "    <tr>\n",
              "      <th>Logan Square</th>\n",
              "      <td>393</td>\n",
              "      <td>167.605598</td>\n",
              "    </tr>\n",
              "    <tr>\n",
              "      <th>Near West Side</th>\n",
              "      <td>372</td>\n",
              "      <td>184.865591</td>\n",
              "    </tr>\n",
              "    <tr>\n",
              "      <th>...</th>\n",
              "      <td>...</td>\n",
              "      <td>...</td>\n",
              "    </tr>\n",
              "    <tr>\n",
              "      <th>West Elsdon</th>\n",
              "      <td>1</td>\n",
              "      <td>105.000000</td>\n",
              "    </tr>\n",
              "    <tr>\n",
              "      <th>Burnside</th>\n",
              "      <td>1</td>\n",
              "      <td>200.000000</td>\n",
              "    </tr>\n",
              "    <tr>\n",
              "      <th>Gage Park</th>\n",
              "      <td>1</td>\n",
              "      <td>99.000000</td>\n",
              "    </tr>\n",
              "    <tr>\n",
              "      <th>Avalon Park</th>\n",
              "      <td>1</td>\n",
              "      <td>65.000000</td>\n",
              "    </tr>\n",
              "    <tr>\n",
              "      <th>Edison Park</th>\n",
              "      <td>1</td>\n",
              "      <td>149.000000</td>\n",
              "    </tr>\n",
              "  </tbody>\n",
              "</table>\n",
              "<p>77 rows × 2 columns</p>\n",
              "</div>"
            ],
            "text/plain": [
              "                 qtde_anuncios  preco_medio\n",
              "Near North Side            722   249.343490\n",
              "West Town                  679   210.416789\n",
              "Lake View                  574   244.590592\n",
              "Logan Square               393   167.605598\n",
              "Near West Side             372   184.865591\n",
              "...                        ...          ...\n",
              "West Elsdon                  1   105.000000\n",
              "Burnside                     1   200.000000\n",
              "Gage Park                    1    99.000000\n",
              "Avalon Park                  1    65.000000\n",
              "Edison Park                  1   149.000000\n",
              "\n",
              "[77 rows x 2 columns]"
            ]
          },
          "metadata": {
            "tags": []
          },
          "execution_count": 331
        }
      ]
    },
    {
      "cell_type": "markdown",
      "metadata": {
        "id": "9pvLMcQ5VAOm"
      },
      "source": [
        "# Bairros ordenados por preço médio de anúncio"
      ]
    },
    {
      "cell_type": "code",
      "metadata": {
        "colab": {
          "base_uri": "https://localhost:8080/",
          "height": 419
        },
        "id": "-jgmKV9lUlvX",
        "outputId": "1ecc9c18-b02e-420d-8d7b-b651b9eda573"
      },
      "source": [
        "dfC.sort_values('preco_medio', ascending=False)\n",
        "dfC"
      ],
      "execution_count": 333,
      "outputs": [
        {
          "output_type": "execute_result",
          "data": {
            "text/html": [
              "<div>\n",
              "<style scoped>\n",
              "    .dataframe tbody tr th:only-of-type {\n",
              "        vertical-align: middle;\n",
              "    }\n",
              "\n",
              "    .dataframe tbody tr th {\n",
              "        vertical-align: top;\n",
              "    }\n",
              "\n",
              "    .dataframe thead th {\n",
              "        text-align: right;\n",
              "    }\n",
              "</style>\n",
              "<table border=\"1\" class=\"dataframe\">\n",
              "  <thead>\n",
              "    <tr style=\"text-align: right;\">\n",
              "      <th></th>\n",
              "      <th>qtde_anuncios</th>\n",
              "      <th>preco_medio</th>\n",
              "    </tr>\n",
              "  </thead>\n",
              "  <tbody>\n",
              "    <tr>\n",
              "      <th>Loop</th>\n",
              "      <td>342</td>\n",
              "      <td>331.394737</td>\n",
              "    </tr>\n",
              "    <tr>\n",
              "      <th>West Englewood</th>\n",
              "      <td>7</td>\n",
              "      <td>268.571429</td>\n",
              "    </tr>\n",
              "    <tr>\n",
              "      <th>West Lawn</th>\n",
              "      <td>9</td>\n",
              "      <td>264.111111</td>\n",
              "    </tr>\n",
              "    <tr>\n",
              "      <th>Near North Side</th>\n",
              "      <td>722</td>\n",
              "      <td>249.343490</td>\n",
              "    </tr>\n",
              "    <tr>\n",
              "      <th>Lake View</th>\n",
              "      <td>574</td>\n",
              "      <td>244.590592</td>\n",
              "    </tr>\n",
              "    <tr>\n",
              "      <th>...</th>\n",
              "      <td>...</td>\n",
              "      <td>...</td>\n",
              "    </tr>\n",
              "    <tr>\n",
              "      <th>Norwood Park</th>\n",
              "      <td>30</td>\n",
              "      <td>63.966667</td>\n",
              "    </tr>\n",
              "    <tr>\n",
              "      <th>Chicago Lawn</th>\n",
              "      <td>4</td>\n",
              "      <td>59.250000</td>\n",
              "    </tr>\n",
              "    <tr>\n",
              "      <th>Calumet Heights</th>\n",
              "      <td>26</td>\n",
              "      <td>55.961538</td>\n",
              "    </tr>\n",
              "    <tr>\n",
              "      <th>Mount Greenwood</th>\n",
              "      <td>4</td>\n",
              "      <td>47.250000</td>\n",
              "    </tr>\n",
              "    <tr>\n",
              "      <th>Riverdale</th>\n",
              "      <td>3</td>\n",
              "      <td>24.666667</td>\n",
              "    </tr>\n",
              "  </tbody>\n",
              "</table>\n",
              "<p>77 rows × 2 columns</p>\n",
              "</div>"
            ],
            "text/plain": [
              "                 qtde_anuncios  preco_medio\n",
              "Loop                       342   331.394737\n",
              "West Englewood               7   268.571429\n",
              "West Lawn                    9   264.111111\n",
              "Near North Side            722   249.343490\n",
              "Lake View                  574   244.590592\n",
              "...                        ...          ...\n",
              "Norwood Park                30    63.966667\n",
              "Chicago Lawn                 4    59.250000\n",
              "Calumet Heights             26    55.961538\n",
              "Mount Greenwood              4    47.250000\n",
              "Riverdale                    3    24.666667\n",
              "\n",
              "[77 rows x 2 columns]"
            ]
          },
          "metadata": {
            "tags": []
          },
          "execution_count": 333
        }
      ]
    },
    {
      "cell_type": "code",
      "metadata": {
        "id": "UxVJqJ_3W59I",
        "colab": {
          "base_uri": "https://localhost:8080/",
          "height": 297
        },
        "outputId": "d7f3193d-c9fd-48f1-f1e6-bf5ab0abb1a7"
      },
      "source": [
        "# plotar os imóveis pela latitude-longitude\n",
        "df.plot.scatter('latitude','longitude')"
      ],
      "execution_count": 336,
      "outputs": [
        {
          "output_type": "execute_result",
          "data": {
            "text/plain": [
              "<matplotlib.axes._subplots.AxesSubplot at 0x7fa033820290>"
            ]
          },
          "metadata": {
            "tags": []
          },
          "execution_count": 336
        },
        {
          "output_type": "display_data",
          "data": {
            "image/png": "[encoded data removed]",
            "text/plain": [
              "<Figure size 432x288 with 1 Axes>"
            ]
          },
          "metadata": {
            "tags": [],
            "needs_background": "light"
          }
        }
      ]
    },
    {
      "cell_type": "markdown",
      "metadata": {
        "id": "vTneAMRUYvr1"
      },
      "source": [
        "### **Q7. Qual é a média do mínimo de noites para aluguel (minimum_nights)?**"
      ]
    },
    {
      "cell_type": "code",
      "metadata": {
        "id": "_VzNhrEgY82N",
        "colab": {
          "base_uri": "https://localhost:8080/"
        },
        "outputId": "ca0b9861-3e81-41fb-ce46-47d0845ce859"
      },
      "source": [
        "# ver a média da coluna `minimum_nights``\n",
        "df.minimum_nights.mean()"
      ],
      "execution_count": 105,
      "outputs": [
        {
          "output_type": "execute_result",
          "data": {
            "text/plain": [
              "9.036443606660383"
            ]
          },
          "metadata": {
            "tags": []
          },
          "execution_count": 105
        }
      ]
    },
    {
      "cell_type": "markdown",
      "metadata": {
        "id": "GkvAg623RjoR"
      },
      "source": [
        "## Conclusões\n",
        "\n",
        "Os datasets do AirBnb são extremamente intuitivos e ideais para elaborações de análises experimentais e obtenções de insights.\n"
      ]
    }
  ]
}